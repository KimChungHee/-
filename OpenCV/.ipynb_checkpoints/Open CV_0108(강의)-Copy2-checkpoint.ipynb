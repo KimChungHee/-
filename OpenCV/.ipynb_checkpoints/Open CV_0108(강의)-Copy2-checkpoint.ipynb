{
 "cells": [
  {
   "cell_type": "markdown",
   "metadata": {},
   "source": [
    "#### 버전문제로 실행이 안되어 버전 변경 필요\n",
    "- pip install opencv-python==3.4.2.16\n",
    "- pip install opencv-contrib-python==3.4.2.16\n",
    "\n",
    "두가지 명령어를 각각 수행"
   ]
  },
  {
   "cell_type": "code",
   "execution_count": 3,
   "metadata": {},
   "outputs": [
    {
     "name": "stdout",
     "output_type": "stream",
     "text": [
      "3.4.2\n"
     ]
    }
   ],
   "source": [
    "import cv2\n",
    "print(cv2.__version__)"
   ]
  },
  {
   "cell_type": "markdown",
   "metadata": {},
   "source": [
    "#### 이전코드 오류해결\n",
    "- contours, _ = cv2.findContours(th, cv2.RETR_EXTERNAL,  cv2.CHAIN_APPROX_SIMPLE) [opencv 4]\n",
    "-   _ , contours, _ = cv2.findContours(th, cv2.RETR_EXTERNAL,  cv2.CHAIN_APPROX_SIMPLE) [opencv 3]"
   ]
  },
  {
   "cell_type": "markdown",
   "metadata": {},
   "source": [
    "### 도형검출\n",
    "    - 코드 전체적인 설명 필요 \n",
    "    - approx 인덱싱, 그려지는 것 설명 필요\n",
    "    - 입실론이 달라질 때 꼭지점 개수 적어지는 것 설명하기\n",
    "    - tri.jpg 이미지 제공하기"
   ]
  },
  {
   "cell_type": "code",
   "execution_count": 1,
   "metadata": {},
   "outputs": [
    {
     "name": "stdout",
     "output_type": "stream",
     "text": [
      "405\n",
      "3\n",
      "[239  58]\n",
      "[ 79 295]\n",
      "[ 79 295]\n",
      "[332 327]\n",
      "[239  58]\n",
      "[332 327]\n",
      "[[[239  58]]\n",
      "\n",
      " [[ 79 295]]\n",
      "\n",
      " [[332 327]]]\n"
     ]
    }
   ],
   "source": [
    "import cv2\n",
    "\n",
    "img_color = cv2.imread(\"img/tri.jpg\", cv2.IMREAD_COLOR)\n",
    "cv2.imshow('result', img_color)\n",
    "cv2.waitKey(0)\n",
    "\n",
    "img_gray = cv2.cvtColor(img_color, cv2.COLOR_BGR2GRAY)\n",
    "cv2.imshow('result', img_gray)\n",
    "cv2.waitKey(0)\n",
    "\n",
    "ret,img_binary = cv2.threshold(img_gray, 127, 255, cv2.THRESH_BINARY_INV)\n",
    "cv2.imshow('result', img_binary)\n",
    "cv2.waitKey(0)\n",
    "\n",
    "_, contours, hierarchy = cv2.findContours(img_binary, cv2.RETR_EXTERNAL, cv2.CHAIN_APPROX_SIMPLE)\n",
    "\n",
    "\n",
    "for cnt in contours:\n",
    "    size = len(cnt)\n",
    "    print(size)\n",
    "\n",
    "    epsilon = 0.005 * cv2.arcLength(cnt, True)\n",
    "    approx = cv2.approxPolyDP(cnt, epsilon, True)\n",
    "\n",
    "    size = len(approx)\n",
    "    print(size)\n",
    "\n",
    "    #cv2.approxPolyDP결과로 출력되는 좌표 선하나씩 출력해보기\n",
    "    cv2.line(img_color, tuple(approx[0][0]), tuple(approx[1][0]), (0, 255, 0), 3)\n",
    "    print(approx[0][0])\n",
    "    print(approx[1][0])\n",
    "    cv2.imshow('result', img_color)\n",
    "    cv2.waitKey(0)\n",
    "    \n",
    "    cv2.line(img_color, tuple(approx[1][0]), tuple(approx[2][0]), (0, 255, 0), 3)\n",
    "    print(approx[1][0])\n",
    "    print(approx[2][0])\n",
    "    cv2.imshow('result', img_color)\n",
    "    cv2.waitKey(0)\n",
    "    \n",
    "    \n",
    "    cv2.line(img_color, tuple(approx[0][0]), tuple(approx[2][0]), (0, 255, 0), 3)\n",
    "    print(approx[0][0])\n",
    "    print(approx[2][0])\n",
    "    cv2.putText(img_color, str(size), (30,30), cv2.FONT_HERSHEY_SIMPLEX, 1, (0, 0, 0), 3, 8)\n",
    "    cv2.imshow('result', img_color)\n",
    "    cv2.waitKey(0)\n",
    "    \n",
    "    #궁금하니까 출력해보기 \n",
    "print(approx[:,:,:])\n",
    "   \n",
    "\n",
    "# 일반화    \n",
    "#     cv2.line(img_color, tuple(approx[0][0]), tuple(approx[size-1][0]), (0, 255, 0), 3)\n",
    "#     for k in range(size-1):\n",
    "#         cv2.line(img_color, tuple(approx[k][0]), tuple(approx[k+1][0]), (0, 255, 0), 3)\n",
    "    \n",
    "cv2.waitKey(0)\n",
    "cv2.destroyAllWindows()"
   ]
  },
  {
   "cell_type": "markdown",
   "metadata": {},
   "source": [
    "### 예제"
   ]
  },
  {
   "cell_type": "markdown",
   "metadata": {},
   "source": [
    "### 문서 스캐너 구현\n",
    "\n",
    "Q. 좌표를 찍어주지 않아도 자동으로 스캔 효과를 내는 프로그램 작성\n",
    "\n",
    "####  Hint\n",
    "    - (1) 그레이 스케일 -> 가우시안블로로 노이즈 제거 -> 케니 엣지로 경계 검출\n",
    "    - (2) 경계검출한 이미지에서 컨투어를 찾아 가장 큰 컨투어를 골라 approxPolyDP()  함수로 단순화한 뒤에  꼭지점 4개를 구한다. \n",
    "    - (3) approPolyDP()의 결과값에서 4 x 2 배열로 resape해서 크기를 조정한다. "
   ]
  },
  {
   "cell_type": "code",
   "execution_count": 6,
   "metadata": {
    "scrolled": true
   },
   "outputs": [],
   "source": [
    "import cv2\n",
    "import numpy as np\n",
    "import matplotlib.pyplot as plt\n",
    "\n",
    "\n",
    "# 이미지 읽기\n",
    "img = cv2.imread(\"img/paper.jpg\") # 782, 586, 3\n",
    "orig = img.copy()\n",
    "\n",
    "r = 800.0/img.shape[0]\n",
    "dim = (int(img.shape[1]*r),800)\n",
    "img = cv2.resize(img, dim, interpolation = cv2.INTER_AREA)\n",
    "\n",
    "# 그레이스 스케일 변환 및 케니 엣지\n",
    "gray = cv2.cvtColor(img, cv2.COLOR_BGR2GRAY)\n",
    "gray = cv2.GaussianBlur(gray,(3,3), 0)\n",
    "edged = cv2.Canny(gray, 100, 200)\n",
    "\n",
    "cv2.namedWindow('img',cv2.WINDOW_NORMAL)\n",
    "cv2.namedWindow('edged', cv2.WINDOW_NORMAL)\n",
    "cv2.imshow('img',img)\n",
    "cv2.imshow('edged',edged)\n",
    "\n",
    "cv2.waitKey(0)\n",
    "cv2.destroyAllWindows()\n",
    "\n",
    "\n",
    "# 컨투어 찾기\n",
    "_, cnts, _ = cv2.findContours(edged.copy(), cv2.RETR_LIST, cv2.CHAIN_APPROX_SIMPLE)\n",
    "\n",
    "# 컨투어들 중에 영역 크기 순으로 정렬 \n",
    "cnts = sorted(cnts, key = cv2.contourArea, reverse = True)[:5]\n",
    "\n",
    "\n",
    "# 좌표 4개 중 상하좌우 찾기 ---② \n",
    "for c in cnts:\n",
    "    peri = cv2.arcLength(c, True)\n",
    "    approx = cv2.approxPolyDP(c, 0.02 * peri, True)\n",
    "\n",
    "    if len(approx) ==4:\n",
    "        screenCnt = approx\n",
    "        break\n",
    "\n",
    "cv2.drawContours(img, [screenCnt], -1, (0, 255, 0), 2)\n",
    "cv2.imshow('Outline', img)\n",
    "\n",
    "cv2.waitKey(0)\n",
    "cv2.destroyAllWindows()\n",
    "\n",
    "# 변환 전 4개 좌표 \n",
    "\n",
    "\n",
    "# 변환 후 영상에 사용할 서류의 폭과 높이 계산 ---③ \n",
    "def order_points(pts):\n",
    "    rect = np.zeros((4,2), dtype = \"float32\")\n",
    "    \n",
    "    s = pts.sum(axis = 1)\n",
    "    \n",
    "    rect[0] = pts[np.argmin(s)]\n",
    "    rect[2] = pts[np.argmax(s)]\n",
    "    \n",
    "    diff = np.diff(pts, axis = 1)\n",
    "    rect[1] = pts[np.argmin(diff)]\n",
    "    rect[3] = pts[np.argmax(diff)]\n",
    "    \n",
    "    return rect\n",
    "\n",
    "rect = order_points(screenCnt.reshape(4,2) / r)\n",
    "(topLeft, topRight, bottomRight, bottomLeft) = rect\n",
    "\n",
    "# 변환 후 4개 좌표\n",
    "w1 = abs(bottomRight[0] - bottomLeft[0])\n",
    "w2 = abs(topRight[0] - topLeft[0])\n",
    "h1 = abs(topRight[1] - bottomRight[1])\n",
    "h2 = abs(topLeft[1] - bottomLeft[1])\n",
    "\n",
    "maxWidth = max([w1,w2])\n",
    "maxHeight = max([h1,h2])\n",
    "\n",
    "dst = np.float32([[0,0], [maxWidth-1,0], [maxWidth-1,maxHeight-1],[0, maxHeight-1]])\n",
    "\n",
    "N = cv2.getPerspectiveTransform(rect, dst)\n",
    "\n",
    "warped = cv2.warpPerspective(img, N, (maxWidth, maxHeight))\n",
    "\n",
    "cv2.imshow('warped',warped)\n",
    "\n",
    "cv2.waitKey(0)\n",
    "cv2.destroyAllWindows()\n",
    "cv2.waitKey(1)\n",
    "\n",
    "warped = cv2.cvtColor(warped, cv2.COLOR_BGR2GRAY)\n",
    "warped = cv2.adaptiveThreshold(warped, 255, cv2.ADAPTIVE_THRESH_MEAN_C, cv2.THRESH_BINARY, 21, 10)\n",
    "\n",
    "cv2.imshow('original',orig)\n",
    "cv2.imshow('scan',warped)\n",
    "\n",
    "cv2.waitKey(0)\n",
    "cv2.destroyAllWindows()\n",
    "\n",
    "# 변환 행렬 계산 \n",
    "\n",
    "# 원근 변환 적용\n",
    "\n"
   ]
  },
  {
   "cell_type": "markdown",
   "metadata": {},
   "source": [
    "# 영상 매칭과 추적"
   ]
  },
  {
   "cell_type": "markdown",
   "metadata": {},
   "source": [
    "### 평균 해시 매칭 \n",
    ": 픽셀 전체의 평균 값을 구해서 각 픽셀의 값이 평균보다 작으면 0, 크면 1로 바꿉니다. "
   ]
  },
  {
   "cell_type": "code",
   "execution_count": null,
   "metadata": {},
   "outputs": [],
   "source": [
    "import cv2\n",
    "from matplotlib import pyplot as plt\n",
    "\n",
    "#영상 읽어서 그레이 스케일로 변환\n",
    "img = cv2.imread('img/pistol.jpg')\n",
    "gray = cv2.cvtColor(img, cv2.COLOR_BGR2GRAY)\n",
    "\n",
    "# 16x16 크기로 축소 ---①\n",
    "gray = cv2.resize(gray, (16,16))\n",
    "# 영상의 평균값 구하기 ---②\n",
    "avg = gray.mean()\n",
    "# 평균값을 기준으로 0과 1로 변환 ---③\n",
    "bin = 1 * (gray > avg)\n",
    "print(bin)\n",
    "\n",
    "\n",
    "plt.imshow(cv2.cvtColor(img, cv2.COLOR_BGR2RGB))\n",
    "plt.show()"
   ]
  },
  {
   "cell_type": "markdown",
   "metadata": {},
   "source": [
    "### 유사도 측정방법\n",
    "    (1) 유클리드 거리 : 두 값의 차이 (높은 자리가 다를 수록 더 큰거리)\n",
    "    (2) 해밍거리 : 길이가 같을 때 자리 값이 서로 다른 것이 몇개인지 ( 각 자리수의 차이의 개수 비교 )\n",
    "        ex) 12345와 123(54)가 있을 때 해밍 거리가 '2'"
   ]
  },
  {
   "cell_type": "code",
   "execution_count": null,
   "metadata": {},
   "outputs": [],
   "source": [
    "http://www.vision.caltech.edu/Image_Datasets/Caltech101/101_ObjectCategories.tar.gz\n",
    "\n",
    "    - 링크 다운로드 후 \n",
    "    - img/''/ (이미지(ig)파일 안에 위치시키기) --- (1) 경로와 동일하게"
   ]
  },
  {
   "cell_type": "code",
   "execution_count": null,
   "metadata": {},
   "outputs": [],
   "source": [
    "import cv2\n",
    "import numpy as np\n",
    "import glob\n",
    "\n",
    "# 영상 읽기 및 표시\n",
    "img = cv2.imread('img/pistol.jpg')\n",
    "cv2.imshow('query', img)\n",
    "\n",
    "# 비교할 영상들이 있는 경로 ---①\n",
    "search_dir = 'img/101_ObjectCategories'\n",
    "\n",
    "# 이미지를 16x16 크기의 평균 해쉬로 변환 ---②\n",
    "def img2hash(img):\n",
    "    gray = cv2.cvtColor(img, cv2.COLOR_BGR2GRAY)\n",
    "    gray = cv2.resize(gray, (16, 16))\n",
    "    avg = gray.mean()\n",
    "    bi = 1 * (gray > avg)\n",
    "    return bi\n",
    "\n",
    "# 해밍거리 측정 함수 ---③\n",
    "def hamming_distance(a, b):\n",
    "    a = a.reshape(1,-1) # \"-1\" 자동으로 차원선정\n",
    "    b = b.reshape(1,-1)\n",
    "    # 같은 자리의 값이 서로 다른 것들의 합\n",
    "    distance = (a !=b).sum()\n",
    "    return distance\n",
    "\n",
    "# 권총 영상의 해쉬 구하기 ---④\n",
    "query_hash = img2hash(img)\n",
    "\n",
    "# 이미지 데이타 셋 디렉토리의 모든 영상 파일 경로 ---⑤\n",
    "img_path = glob.glob(search_dir+'/**/*.jpg')\n",
    "for path in img_path:\n",
    "    # 데이타 셋 영상 한개 읽어서 표시 ---⑥\n",
    "    img = cv2.imread(path)\n",
    "    cv2.imshow('searching...', img)\n",
    "    cv2.waitKey(5)\n",
    "    # 데이타 셋 영상 한개의 해시  ---⑦\n",
    "    a_hash = img2hash(img)\n",
    "    # 해밍 거리 산출 ---⑧\n",
    "    dst = hamming_distance(query_hash, a_hash)\n",
    "    if dst/256 < 0.25: # 해밍거리 25% 이내만 출력 ---⑨\n",
    "        print(path, dst/256)\n",
    "        cv2.imshow(path, img)\n",
    "cv2.destroyWindow('searching...')\n",
    "cv2.waitKey(0)\n",
    "cv2.destroyAllWindows()"
   ]
  },
  {
   "cell_type": "code",
   "execution_count": null,
   "metadata": {},
   "outputs": [],
   "source": []
  }
 ],
 "metadata": {
  "kernelspec": {
   "display_name": "Python 3",
   "language": "python",
   "name": "python3"
  },
  "language_info": {
   "codemirror_mode": {
    "name": "ipython",
    "version": 3
   },
   "file_extension": ".py",
   "mimetype": "text/x-python",
   "name": "python",
   "nbconvert_exporter": "python",
   "pygments_lexer": "ipython3",
   "version": "3.7.4"
  }
 },
 "nbformat": 4,
 "nbformat_minor": 2
}
