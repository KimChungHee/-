{
 "cells": [
  {
   "cell_type": "code",
   "execution_count": null,
   "metadata": {},
   "outputs": [],
   "source": [
    "import cv2\n",
    "import matplotlib.pyplot as plt\n",
    "\n",
    "# 엽서 이미지에서 우편 번호를 추출하는 함수\n",
    "def detect_zipno(fname):\n",
    "    # 이미지 읽어 들이기\n",
    "    img = cv2.imread(fname)\n",
    "    # 이미지 크기 구하기\n",
    "    h, w = img.shape[:2]\n",
    "    # 이미지의 오른쪽 윗부분만 추출하기 --- (*1)\n",
    "    img = img[0:h//2, w//3:]\n",
    "    \n",
    "    # 이미지 이진화하기 --- (*2)\n",
    "    gray = cv2.cvtColor(img, cv2.COLOR_BGR2GRAY)\n",
    "    gray = cv2.GaussianBlur(gray, (3, 3), 0) \n",
    "    im2 = cv2.threshold(gray, 140, 255, cv2.THRESH_BINARY_INV)[1]\n",
    "    \n",
    "    # 윤곽 검출하기 --- (*3)\n",
    "    cnts = cv2.findContours(im2, \n",
    "        cv2.RETR_LIST,\n",
    "        cv2.CHAIN_APPROX_SIMPLE)[1]\n",
    "    \n",
    "    # 추출한 이미지에서 윤곽 추출하기--- (*4)\n",
    "    result = []\n",
    "    for pt in cnts:\n",
    "        x, y, w, h = cv2.boundingRect(pt)\n",
    "        # 너무 크거나 너무 작은 부분 제거하기 --- (*5)\n",
    "        if not(50 < w < 70): continue\n",
    "        result.append([x, y, w, h])\n",
    "    # 추출한 윤곽을 위치에 따라 정렬하기 --- (*6)\n",
    "    result = sorted(result, key=lambda x: x[0])\n",
    "    # 추출한 윤곽이 너무 가까운 것들 제거하기 --- (*7)\n",
    "    result2 = []\n",
    "    lastx = -100\n",
    "    for x, y, w, h in result:\n",
    "        if (x - lastx) < 10: continue\n",
    "        result2.append([x, y, w, h])\n",
    "        lastx = x\n",
    "    # 초록색 테두리 출력하기 --- (*8)\n",
    "    for x, y, w, h in result2:\n",
    "        cv2.rectangle(img, (x, y), (x+w, y+h), (0, 255, 0), 3)\n",
    "    return result2, img\n",
    "\n",
    "if __name__ == '__main__':\n",
    "    # 이미지를 지정해서 우편번호 추출하기\n",
    "    cnts, img = detect_zipno(\"hagaki1.png\")\n",
    "\n",
    "    # 결과 출력하기 --- (*7)\n",
    "    plt.imshow(cv2.cvtColor(img, cv2.COLOR_BGR2RGB))\n",
    "    plt.savefig(\"detect-zip.png\", dpi=200)\n",
    "    plt.show()"
   ]
  }
 ],
 "metadata": {
  "kernelspec": {
   "display_name": "Python 3",
   "language": "python",
   "name": "python3"
  },
  "language_info": {
   "codemirror_mode": {
    "name": "ipython",
    "version": 3
   },
   "file_extension": ".py",
   "mimetype": "text/x-python",
   "name": "python",
   "nbconvert_exporter": "python",
   "pygments_lexer": "ipython3",
   "version": "3.7.4"
  }
 },
 "nbformat": 4,
 "nbformat_minor": 2
}
